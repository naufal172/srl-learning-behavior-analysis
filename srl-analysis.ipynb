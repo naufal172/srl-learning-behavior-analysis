{
  "cells": [
    {
      "cell_type": "markdown",
      "metadata": {
        "id": "view-in-github",
        "colab_type": "text"
      },
      "source": [
        "<a href=\"https://colab.research.google.com/github/naufal172/srl-learning-behavior-analysis/blob/main/srl-analysis.ipynb\" target=\"_parent\"><img src=\"https://colab.research.google.com/assets/colab-badge.svg\" alt=\"Open In Colab\"/></a>"
      ]
    },
    {
      "cell_type": "code",
      "execution_count": null,
      "id": "18909c55",
      "metadata": {
        "colab": {
          "base_uri": "https://localhost:8080/",
          "height": 105
        },
        "id": "18909c55",
        "outputId": "df56373d-ed43-49bc-af4f-6f9ec078e2c8"
      },
      "outputs": [
        {
          "output_type": "error",
          "ename": "SyntaxError",
          "evalue": "invalid syntax (ipython-input-2699700049.py, line 8)",
          "traceback": [
            "\u001b[0;36m  File \u001b[0;32m\"/tmp/ipython-input-2699700049.py\"\u001b[0;36m, line \u001b[0;32m8\u001b[0m\n\u001b[0;31m    import pandas as pdprint(\"Library berhasil diimport!\")\u001b[0m\n\u001b[0m                            ^\u001b[0m\n\u001b[0;31mSyntaxError\u001b[0m\u001b[0;31m:\u001b[0m invalid syntax\n"
          ]
        }
      ],
      "source": [
        "# Import library\n",
        "\n",
        "import matplotlib.pyplot as plt\n",
        "import seaborn as sns\n",
        "from sklearn.ensemble import RandomForestClassifier\n",
        "from IPython.display import display\n",
        "\n",
        "import pandas as pd\n",
        "print(\"Library berhasil diimport!\")"
      ]
    },
    {
      "cell_type": "code",
      "source": [
        "from google.colab import drive\n",
        "drive.mount('/content/drive')"
      ],
      "metadata": {
        "id": "RD8wQ6ikw4Tj"
      },
      "id": "RD8wQ6ikw4Tj",
      "execution_count": null,
      "outputs": []
    },
    {
      "cell_type": "code",
      "execution_count": null,
      "id": "c1be7fef",
      "metadata": {
        "colab": {
          "base_uri": "https://localhost:8080/",
          "height": 207
        },
        "id": "c1be7fef",
        "outputId": "c7e7a653-2812-4475-e118-a7a534cdaff9"
      },
      "outputs": [
        {
          "output_type": "error",
          "ename": "FileNotFoundError",
          "evalue": "[Errno 2] No such file or directory: 'logs_CPI1H3-IF-47-01PJJ_KALKULUSLANJUT_DNS_2324_2 (2).csv'",
          "traceback": [
            "\u001b[0;31m---------------------------------------------------------------------------\u001b[0m",
            "\u001b[0;31mFileNotFoundError\u001b[0m                         Traceback (most recent call last)",
            "\u001b[0;32m/tmp/ipython-input-2754937613.py\u001b[0m in \u001b[0;36m<cell line: 0>\u001b[0;34m()\u001b[0m\n\u001b[1;32m      2\u001b[0m \u001b[0;34m\u001b[0m\u001b[0m\n\u001b[1;32m      3\u001b[0m \u001b[0;31m# === STEP 1: Baca raw file log ===\u001b[0m\u001b[0;34m\u001b[0m\u001b[0;34m\u001b[0m\u001b[0m\n\u001b[0;32m----> 4\u001b[0;31m \u001b[0;32mwith\u001b[0m \u001b[0mopen\u001b[0m\u001b[0;34m(\u001b[0m\u001b[0;34m\"logs_CPI1H3-IF-47-01PJJ_KALKULUSLANJUT_DNS_2324_2 (2).csv\"\u001b[0m\u001b[0;34m,\u001b[0m \u001b[0;34m\"r\"\u001b[0m\u001b[0;34m,\u001b[0m \u001b[0mencoding\u001b[0m\u001b[0;34m=\u001b[0m\u001b[0;34m\"utf-8-sig\"\u001b[0m\u001b[0;34m)\u001b[0m \u001b[0;32mas\u001b[0m \u001b[0mf\u001b[0m\u001b[0;34m:\u001b[0m\u001b[0;34m\u001b[0m\u001b[0;34m\u001b[0m\u001b[0m\n\u001b[0m\u001b[1;32m      5\u001b[0m     \u001b[0mlines\u001b[0m \u001b[0;34m=\u001b[0m \u001b[0mf\u001b[0m\u001b[0;34m.\u001b[0m\u001b[0mreadlines\u001b[0m\u001b[0;34m(\u001b[0m\u001b[0;34m)\u001b[0m\u001b[0;34m\u001b[0m\u001b[0;34m\u001b[0m\u001b[0m\n\u001b[1;32m      6\u001b[0m \u001b[0;34m\u001b[0m\u001b[0m\n",
            "\u001b[0;31mFileNotFoundError\u001b[0m: [Errno 2] No such file or directory: 'logs_CPI1H3-IF-47-01PJJ_KALKULUSLANJUT_DNS_2324_2 (2).csv'"
          ]
        }
      ],
      "source": [
        "import pandas as pd\n",
        "\n",
        "# === STEP 1: Baca raw file log ===\n",
        "with open(\"logs_CPI1H3-IF-47-01PJJ_KALKULUSLANJUT_DNS_2324_2 (2).csv\", \"r\", encoding=\"utf-8-sig\") as f:\n",
        "    lines = f.readlines()\n",
        "\n",
        "clean_rows = []\n",
        "\n",
        "# === STEP 2: Bersihkan baris dan gabungkan waktu ===\n",
        "for line in lines:\n",
        "    parts = [p.strip().strip('\"') for p in line.strip().split(',')]\n",
        "\n",
        "    if len(parts) >= 10:\n",
        "        full_time = parts[0] + ', ' + parts[1]\n",
        "        row = [full_time] + parts[2:10]\n",
        "        clean_rows.append(row)\n",
        "\n",
        "# === STEP 3: Buat DataFrame ===\n",
        "columns = ['Time', 'User full name', 'Affected user', 'Event context',\n",
        "           'Component', 'Event name', 'Description', 'Origin', 'IP address']\n",
        "df = pd.DataFrame(clean_rows, columns=columns)\n",
        "\n",
        "# === STEP 4: Liat semua user unik dulu sebelum filter\n",
        "print(\"👀 Daftar User full name unik:\")\n",
        "print(df['User full name'].dropna().unique())\n",
        "print(\"\\n🔁 Total user unik:\", df['User full name'].nunique())\n",
        "print(\"Silakan cek dulu di atas user mana yang mau dihapus sebelum lanjut.\\n\")"
      ]
    },
    {
      "cell_type": "code",
      "execution_count": null,
      "id": "44d57a2a",
      "metadata": {
        "id": "44d57a2a",
        "outputId": "450dffc7-58b4-4bcb-f10a-ad5e9a75a3bc"
      },
      "outputs": [
        {
          "name": "stderr",
          "output_type": "stream",
          "text": [
            "C:\\Users\\OPAL\\AppData\\Local\\Temp\\ipykernel_16032\\3933715957.py:23: UserWarning: Could not infer format, so each element will be parsed individually, falling back to `dateutil`. To ensure parsing is consistent and as-expected, please specify a format.\n",
            "  df['Time'] = pd.to_datetime(df['Time'], errors='coerce')\n"
          ]
        },
        {
          "name": "stdout",
          "output_type": "stream",
          "text": [
            "📊 Jumlah Missing Value per Kolom:\n",
            "Time              0\n",
            "User full name    0\n",
            "Affected user     0\n",
            "Event context     0\n",
            "Component         0\n",
            "Event name        0\n",
            "Description       0\n",
            "Origin            0\n",
            "IP address        0\n",
            "dtype: int64\n",
            "\n",
            "❓ Ada missing value nggak di data?\n",
            "👉 False\n",
            "\n",
            "📄 Contoh baris yang mengandung missing value:\n",
            "Empty DataFrame\n",
            "Columns: [Time, User full name, Affected user, Event context, Component, Event name, Description, Origin, IP address]\n",
            "Index: []\n"
          ]
        }
      ],
      "source": [
        "import pandas as pd\n",
        "\n",
        "# === STEP 1: Baca file CSV mentah ===\n",
        "with open(\"logs_CPI1H3-IF-47-01PJJ_KALKULUSLANJUT_DNS_2324_2 (2).csv\", \"r\", encoding=\"utf-8-sig\") as f:\n",
        "    lines = f.readlines()\n",
        "\n",
        "clean_rows = []\n",
        "\n",
        "# === STEP 2: Gabungkan tanggal dan waktu, simpan kolom penting ===\n",
        "for line in lines:\n",
        "    parts = [p.strip().strip('\"') for p in line.strip().split(',')]\n",
        "    if len(parts) >= 10:\n",
        "        full_time = parts[0] + ', ' + parts[1]  # Gabungkan tanggal dan jam\n",
        "        row = [full_time] + parts[2:10]\n",
        "        clean_rows.append(row)\n",
        "\n",
        "# === STEP 3: Buat DataFrame ===\n",
        "columns = ['Time', 'User full name', 'Affected user', 'Event context',\n",
        "           'Component', 'Event name', 'Description', 'Origin', 'IP address']\n",
        "df = pd.DataFrame(clean_rows, columns=columns)\n",
        "\n",
        "# === STEP 4: Konversi kolom waktu jadi datetime\n",
        "df['Time'] = pd.to_datetime(df['Time'], errors='coerce')\n",
        "\n",
        "# === STEP 5: Cek missing value\n",
        "print(\"📊 Jumlah Missing Value per Kolom:\")\n",
        "print(df.isnull().sum())\n",
        "\n",
        "print(\"\\n❓ Ada missing value nggak di data?\")\n",
        "print(\"👉\", df.isnull().values.any())\n",
        "\n",
        "print(\"\\n📄 Contoh baris yang mengandung missing value:\")\n",
        "print(df[df.isnull().any(axis=1)].head())\n"
      ]
    },
    {
      "cell_type": "code",
      "execution_count": null,
      "id": "0c1d8b88",
      "metadata": {
        "id": "0c1d8b88",
        "outputId": "bf5f71be-98c2-42f5-a5b8-250da0d4f8d8"
      },
      "outputs": [
        {
          "name": "stdout",
          "output_type": "stream",
          "text": [
            "94555\n"
          ]
        }
      ],
      "source": [
        "import pandas as pd\n",
        "\n",
        "# Baca file CSV mentah\n",
        "with open(\"logs_CPI1H3-IF-47-01PJJ_KALKULUSLANJUT_DNS_2324_2 (2).csv\", \"r\", encoding=\"utf-8-sig\") as f:\n",
        "    lines = f.readlines()\n",
        "\n",
        "clean_rows = []\n",
        "\n",
        "# Ambil kolom penting dan gabungkan tanggal + waktu\n",
        "for line in lines:\n",
        "    parts = [p.strip().strip('\"') for p in line.strip().split(',')]\n",
        "    if len(parts) >= 10:\n",
        "        full_time = parts[0] + ', ' + parts[1]\n",
        "        row = [full_time] + parts[2:10]\n",
        "        clean_rows.append(row)\n",
        "\n",
        "# Buat DataFrame\n",
        "columns = ['Time', 'User full name', 'Affected user', 'Event context',\n",
        "           'Component', 'Event name', 'Description', 'Origin', 'IP address']\n",
        "df = pd.DataFrame(clean_rows, columns=columns)\n",
        "\n",
        "# Tampilkan jumlah total baris\n",
        "print(len(df))\n"
      ]
    },
    {
      "cell_type": "code",
      "execution_count": null,
      "id": "ee6ca28c",
      "metadata": {
        "id": "ee6ca28c",
        "outputId": "b8402535-45c4-4a43-8533-7ed940a2d13f"
      },
      "outputs": [
        {
          "name": "stdout",
          "output_type": "stream",
          "text": [
            "Tanggal mulai belajar (awal log): 2024-02-19\n",
            "Tanggal akhir belajar (akhir log): 2024-06-27\n"
          ]
        }
      ],
      "source": [
        "import pandas as pd\n",
        "\n",
        "# Load log aktivitas\n",
        "df = pd.read_csv(\"log_mahasiswa_bersih.csv\")\n",
        "\n",
        "# Pastikan kolom waktu sudah dalam format datetime\n",
        "df['Time'] = pd.to_datetime(df['Time'], errors='coerce')\n",
        "\n",
        "# Hilangkan baris yang gagal parsing tanggal\n",
        "df = df.dropna(subset=['Time'])\n",
        "\n",
        "# Cari tanggal mulai dan tanggal akhir dari log\n",
        "tanggal_awal = df['Time'].min()\n",
        "tanggal_akhir = df['Time'].max()\n",
        "\n",
        "# Tampilkan hasil\n",
        "print(\"Tanggal mulai belajar (awal log):\", tanggal_awal.date())\n",
        "print(\"Tanggal akhir belajar (akhir log):\", tanggal_akhir.date())\n"
      ]
    },
    {
      "cell_type": "code",
      "execution_count": null,
      "id": "4e6c81de",
      "metadata": {
        "id": "4e6c81de",
        "outputId": "f9df7fb4-c23d-4920-9108-01d6ce61c132"
      },
      "outputs": [
        {
          "name": "stdout",
          "output_type": "stream",
          "text": [
            "✅ log_mahasiswa_bersih.csv berhasil disimpan! Siap dipakai untuk analisis selanjutnya.\n"
          ]
        }
      ],
      "source": [
        "    import re\n",
        "\n",
        "    # === STEP 5: Filter user yang bukan mahasiswa (hapus dosen, sistem, asdos, dll) ===\n",
        "    blacklist_names = [\n",
        "        'DENI SAEPUDIN',\n",
        "        'WS USER',\n",
        "        'SARJANA (S1) PJJ INFORMATIKA TELKOM UNIVERSITY',\n",
        "        'NAGAZA SYAFA CHARNOVA',\n",
        "        'SYSTEM CELOE 01'\n",
        "    ]\n",
        "\n",
        "    df = df[~df['User full name'].str.upper().isin(blacklist_names)]\n",
        "    df = df[df['User full name'].str.strip() != '-']  # Buang nama aneh atau kosong\n",
        "\n",
        "    # === STEP 6: Ubah kolom Time ke datetime format ===\n",
        "    df['Time'] = pd.to_datetime(df['Time'], format='%d/%m/%y, %H:%M', errors='coerce')\n",
        "\n",
        "    # === STEP 7: Ambil user_id dari kolom Description ===\n",
        "    def extract_user_id(desc):\n",
        "        match = re.search(r\"user with id '?(\\d+)'?\", str(desc))\n",
        "        return match.group(1) if match else None\n",
        "\n",
        "    df['user_id'] = df['Description'].apply(extract_user_id)\n",
        "\n",
        "    # === STEP 8: Buang baris yang gagal parsing waktu atau tidak ada user_id ===\n",
        "    df = df.dropna(subset=['Time', 'user_id'])\n",
        "\n",
        "    # === STEP 9: Simpan hasil log bersih ===\n",
        "    df.to_csv(\"log_mahasiswa_bersih.csv\", index=False, encoding=\"utf-8\")\n",
        "    print(\"✅ log_mahasiswa_bersih.csv berhasil disimpan! Siap dipakai untuk analisis selanjutnya.\")\n"
      ]
    },
    {
      "cell_type": "code",
      "execution_count": null,
      "id": "55573f74",
      "metadata": {
        "id": "55573f74"
      },
      "outputs": [],
      "source": [
        "import pandas as pd\n",
        "\n",
        "# Load data CSV hasil parsing awal (log bersih versi mentah)\n",
        "df = pd.read_csv(\"log_mahasiswa_bersih.csv\")\n",
        "\n",
        "# Daftar kolom yang ingin dihapus\n",
        "columns_to_drop = ['Affected user', 'Origin', 'IP address']\n",
        "\n",
        "# Drop kolom tersebut (jika ada)\n",
        "df = df.drop(columns=columns_to_drop, errors='ignore')\n",
        "\n",
        "\n"
      ]
    },
    {
      "cell_type": "code",
      "execution_count": null,
      "id": "71793d20",
      "metadata": {
        "id": "71793d20",
        "outputId": "6e2f4f5a-f926-4ff3-b66c-70b10d47158e"
      },
      "outputs": [
        {
          "name": "stdout",
          "output_type": "stream",
          "text": [
            "🔍 Jumlah missing value per kolom:\n",
            "Time              0\n",
            "User full name    0\n",
            "Affected user     0\n",
            "Event context     0\n",
            "Component         0\n",
            "Event name        0\n",
            "Description       0\n",
            "Origin            0\n",
            "IP address        0\n",
            "user_id           0\n",
            "dtype: int64\n",
            "✅ Duplikat dihapus. Total baris setelah dibersihkan: 55583\n",
            "\n",
            "✅ Missing value & duplikat dihapus. Total baris sekarang: 55583\n"
          ]
        }
      ],
      "source": [
        "import pandas as pd\n",
        "\n",
        "# Load file CSV hasil bersih\n",
        "df = pd.read_csv(\"log_mahasiswa_bersih.csv\")\n",
        "\n",
        "# Cek missing value per kolom\n",
        "print(\"🔍 Jumlah missing value per kolom:\")\n",
        "print(df.isnull().sum())\n",
        "\n",
        "\n",
        "# Hapus duplikat\n",
        "df = df.drop_duplicates()\n",
        "\n",
        "# Cek ulang jumlah baris setelah pembersihan\n",
        "print(\"✅ Duplikat dihapus. Total baris setelah dibersihkan:\", len(df))\n",
        "\n",
        "\n",
        "print(\"\\n✅ Missing value & duplikat dihapus. Total baris sekarang:\", len(df))\n"
      ]
    },
    {
      "cell_type": "code",
      "execution_count": null,
      "id": "a6f0bb1f",
      "metadata": {
        "id": "a6f0bb1f",
        "outputId": "4d9c50c0-5969-4ff8-9d12-86ed49137b93"
      },
      "outputs": [
        {
          "name": "stdout",
          "output_type": "stream",
          "text": [
            "🔍 Jumlah missing value per kolom:\n",
            "Time              0\n",
            "User full name    0\n",
            "Affected user     0\n",
            "Event context     0\n",
            "Component         0\n",
            "Event name        0\n",
            "Description       0\n",
            "Origin            0\n",
            "IP address        0\n",
            "user_id           0\n",
            "dtype: int64\n",
            "\n",
            "🧹 Jumlah baris awal      : 71588\n",
            "🔁 Duplikat yang dihapus  : 16005\n",
            "✅ Total baris akhir      : 55583\n",
            "\n",
            "💾 File disimpan ulang ke: log_mahasiswa_bersih_final.csv\n"
          ]
        }
      ],
      "source": [
        "import pandas as pd\n",
        "\n",
        "# === STEP 1: Load file CSV hasil log bersih ===\n",
        "df = pd.read_csv(\"log_mahasiswa_bersih.csv\")\n",
        "\n",
        "# === STEP 2: Cek jumlah missing value per kolom ===\n",
        "print(\"🔍 Jumlah missing value per kolom:\")\n",
        "missing_values = df.isnull().sum()\n",
        "print(missing_values)\n",
        "\n",
        "# === STEP 3: Hapus duplikat baris (jika ada) ===\n",
        "initial_rows = len(df)\n",
        "df = df.drop_duplicates()\n",
        "after_drop_rows = len(df)\n",
        "\n",
        "# === STEP 4: Ringkasan hasil pembersihan ===\n",
        "print(f\"\\n🧹 Jumlah baris awal      : {initial_rows}\")\n",
        "print(f\"🔁 Duplikat yang dihapus  : {initial_rows - after_drop_rows}\")\n",
        "print(f\"✅ Total baris akhir      : {after_drop_rows}\")\n",
        "\n",
        "# (Opsional) Simpan ulang data yang sudah dibersihkan\n",
        "df.to_csv(\"log_mahasiswa_bersih_final.csv\", index=False, encoding='utf-8')\n",
        "print(\"\\n💾 File disimpan ulang ke: log_mahasiswa_bersih_final.csv\")\n"
      ]
    },
    {
      "cell_type": "code",
      "execution_count": null,
      "id": "f9a4f73a",
      "metadata": {
        "id": "f9a4f73a",
        "outputId": "ad3895f1-bb9f-440e-bcbc-6a9446b29aa0"
      },
      "outputs": [
        {
          "name": "stdout",
          "output_type": "stream",
          "text": [
            "Daftar Component unik:\n",
            "1. System\n",
            "2. File\n",
            "3. URL\n",
            "4. User report\n",
            "5. Safe Exam Browser access rules\n",
            "6. Quiz\n",
            "7. Assignment\n",
            "8. Forum\n",
            "9. File submissions\n",
            "10. Overview report\n",
            "11. Page\n",
            "12. Submission comments\n",
            "13. H5P\n",
            "Daftar Event name unik:\n",
            "1. Course viewed\n",
            "2. Course user report viewed\n",
            "3. Course module viewed\n",
            "4. Course activity completion updated\n",
            "5. Grade user report viewed\n",
            "6. Quiz access was prevented\n",
            "7. Quiz attempt reviewed\n",
            "8. The status of the submission has been viewed.\n",
            "9. Feedback viewed\n",
            "10. User profile viewed\n",
            "11. A submission has been submitted.\n",
            "12. Submission created.\n",
            "13. A file has been uploaded.\n",
            "14. Submission form viewed.\n",
            "15. Quiz attempt submitted\n",
            "16. User graded\n",
            "17. Quiz attempt summary viewed\n",
            "18. Quiz attempt viewed\n",
            "19. Quiz attempt started\n",
            "20. Grading table viewed\n",
            "21. Grading form viewed\n",
            "22. The submission has been graded.\n",
            "23. Grade overview report viewed\n",
            "24. Grade item updated\n",
            "25. Discussion viewed\n",
            "26. Comment created\n",
            "27. Submission updated.\n",
            "28. Course module instance list viewed\n",
            "29. Post created\n",
            "30. Discussion subscription created\n",
            "31. Some content has been posted.\n",
            "32. Post updated\n",
            "33. Badge listing viewed\n",
            "34. Discussion subscription deleted\n",
            "35. User list viewed\n",
            "36. The status of the submission has been updated.\n",
            "37. Remove submission confirmation viewed.\n",
            "38. Post deleted\n",
            "39. Course searched\n",
            "40. Comment deleted\n",
            "41. The submissions have been unlocked for a user.\n",
            "42. The submissions have been locked for a user.\n"
          ]
        }
      ],
      "source": [
        "import pandas as pd\n",
        "\n",
        "# Load data\n",
        "df = pd.read_csv(\"log_mahasiswa_bersih.csv\")\n",
        "\n",
        "# Lihat semua nilai unik pada kolom 'Event name'\n",
        "event_names = df['Event name'].unique()\n",
        "components = df['Component'].unique()\n",
        "\n",
        "# Tampilkan hasil\n",
        "print(\"Daftar Component unik:\")\n",
        "for i, comp in enumerate(components, start=1):\n",
        "    print(f\"{i}. {comp}\")\n",
        "\n",
        "# Tampilkan hasil\n",
        "print(\"Daftar Event name unik:\")\n",
        "for i, name in enumerate(event_names, start=1):\n",
        "    print(f\"{i}. {name}\")\n"
      ]
    },
    {
      "cell_type": "code",
      "execution_count": null,
      "id": "c926651e",
      "metadata": {
        "id": "c926651e",
        "outputId": "12c67d54-ee0e-4a0b-fddb-13dc30dfded5"
      },
      "outputs": [
        {
          "name": "stdout",
          "output_type": "stream",
          "text": [
            "✅ File dan folder dari script lama sudah dihapus.\n"
          ]
        }
      ],
      "source": [
        "import os\n",
        "import shutil\n",
        "\n",
        "try:\n",
        "    os.remove(\"rekap_time_investment.csv\")\n",
        "except FileNotFoundError:\n",
        "    print(\"File rekap_time_investment.csv tidak ditemukan.\")\n",
        "\n",
        "try:\n",
        "    shutil.rmtree(\"per_pekan\")\n",
        "except FileNotFoundError:\n",
        "    print(\"Folder per_pekan tidak ditemukan.\")\n",
        "\n",
        "print(\"✅ File dan folder dari script lama sudah dihapus.\")\n"
      ]
    },
    {
      "cell_type": "code",
      "execution_count": null,
      "id": "bddc604b",
      "metadata": {
        "id": "bddc604b",
        "outputId": "ef3559e4-cf21-4bb9-8e3d-9837bea8b38e"
      },
      "outputs": [
        {
          "name": "stdout",
          "output_type": "stream",
          "text": [
            "✅ File gabungan disimpan sebagai 'rekap_time_investment_full.csv'\n",
            "✅ 16 file pekanan berhasil disimpan di folder 'per_pekan' 🗂️\n"
          ]
        }
      ],
      "source": [
        "import pandas as pd\n",
        "import itertools\n",
        "import os\n",
        "\n",
        "# === 1. Baca dan siapkan data log ===\n",
        "df = pd.read_csv(\"log_mahasiswa_bersih.csv\")\n",
        "df[\"Time\"] = pd.to_datetime(df[\"Time\"])\n",
        "df = df.sort_values(by=[\"user_id\", \"Time\"])\n",
        "\n",
        "# Tambahkan kolom 'pekan' berdasarkan tanggal mulai kuliah\n",
        "start_date = pd.to_datetime(\"2024-02-19\")\n",
        "df[\"pekan\"] = ((df[\"Time\"] - start_date).dt.days // 7) + 1\n",
        "\n",
        "# Filter aktivitas hanya dari pekan 1 s.d. 16\n",
        "df = df[(df[\"pekan\"] >= 1) & (df[\"pekan\"] <= 16)]\n",
        "\n",
        "# === 2. Filter aktivitas konten pembelajaran ===\n",
        "konten = ['File', 'URL', 'Page', 'H5P']\n",
        "mask = (df['Event name'] == 'Course module viewed') & (df['Component'].isin(konten))\n",
        "df_konten = df[mask].copy()\n",
        "\n",
        "# Hitung selisih waktu antar event per mahasiswa\n",
        "df_konten[\"next_time\"] = df_konten.groupby(\"user_id\")[\"Time\"].shift(-1)\n",
        "df_konten[\"selisih_detik\"] = (df_konten[\"next_time\"] - df_konten[\"Time\"]).dt.total_seconds()\n",
        "\n",
        "# Estimasi durasi belajar tiap event (maks 15 menit)\n",
        "df_konten[\"durasi_menit\"] = (df_konten[\"selisih_detik\"] / 60).clip(upper=15)\n",
        "\n",
        "# === 3. Rekapitulasi frekuensi & durasi per user per pekan ===\n",
        "rekap_freq = df_konten.groupby(['user_id', 'pekan', 'Component']).size().unstack(fill_value=0).reset_index()\n",
        "\n",
        "# Tambahkan kolom jika ada komponen yang tidak muncul\n",
        "for k in konten:\n",
        "    if k not in rekap_freq.columns:\n",
        "        rekap_freq[k] = 0\n",
        "\n",
        "# Rename kolom\n",
        "rekap_freq = rekap_freq.rename(columns={\n",
        "    'File': 'frekuensi_file',\n",
        "    'URL': 'frekuensi_url',\n",
        "    'Page': 'frekuensi_page',\n",
        "    'H5P': 'frekuensi_h5p'\n",
        "})\n",
        "\n",
        "# Total frekuensi\n",
        "rekap_freq['total_frekuensi_akses'] = (\n",
        "    rekap_freq['frekuensi_file'] +\n",
        "    rekap_freq['frekuensi_url'] +\n",
        "    rekap_freq['frekuensi_page'] +\n",
        "    rekap_freq['frekuensi_h5p']\n",
        ")\n",
        "\n",
        "# Total durasi\n",
        "rekap_durasi = df_konten.groupby(['user_id', 'pekan'])['durasi_menit'].sum().reset_index()\n",
        "\n",
        "# Gabungkan\n",
        "rekap = pd.merge(rekap_freq, rekap_durasi, on=['user_id', 'pekan'], how='left')\n",
        "rekap['durasi_menit'] = rekap['durasi_menit'].fillna(0)\n",
        "\n",
        "# Tambahkan nama\n",
        "users = df[['user_id', 'User full name']].drop_duplicates()\n",
        "rekap = rekap.merge(users, on='user_id', how='left')\n",
        "\n",
        "# Buat kerangka kombinasi user × pekan\n",
        "weeks = list(range(1, 17))\n",
        "kerangka = pd.DataFrame(itertools.product(users['user_id'], weeks), columns=['user_id', 'pekan'])\n",
        "kerangka = kerangka.merge(users, on='user_id', how='left')\n",
        "\n",
        "# Gabungkan agar data lengkap\n",
        "final = kerangka.merge(rekap, on=['user_id', 'pekan', 'User full name'], how='left').fillna(0)\n",
        "\n",
        "# Pastikan kolom numerik\n",
        "cols_int = [\n",
        "    'frekuensi_file', 'frekuensi_url', 'frekuensi_page', 'frekuensi_h5p',\n",
        "    'total_frekuensi_akses'\n",
        "]\n",
        "final[cols_int] = final[cols_int].astype(int)\n",
        "final['durasi_menit'] = final['durasi_menit'].round(1)\n",
        "\n",
        "# Urutkan dan susun kolom\n",
        "final = final[[\n",
        "    'user_id', 'User full name', 'pekan',\n",
        "    'frekuensi_file', 'frekuensi_url', 'frekuensi_page', 'frekuensi_h5p',\n",
        "    'total_frekuensi_akses', 'durasi_menit'\n",
        "]]\n",
        "final = final.sort_values(by=['User full name', 'pekan'])\n",
        "\n",
        "# === 4. Simpan file ===\n",
        "\n",
        "# ✅ Simpan file gabungan di folder utama\n",
        "final.to_csv(\"rekap_time_investment_full.csv\", index=False)\n",
        "print(\"✅ File gabungan disimpan sebagai 'rekap_time_investment_full.csv'\")\n",
        "\n",
        "# ✅ Simpan file per pekan di folder 'per_pekan'\n",
        "os.makedirs(\"per_pekan\", exist_ok=True)\n",
        "for p in range(1, 17):\n",
        "    df_pekan = final[final[\"pekan\"] == p].copy()\n",
        "    nama_file = f\"per_pekan/pekan_{p:02d}_time_investment_2.csv\"\n",
        "    df_pekan.to_csv(nama_file, index=False)\n",
        "\n",
        "print(\"✅ 16 file pekanan berhasil disimpan di folder 'per_pekan' 🗂️\")\n"
      ]
    },
    {
      "cell_type": "code",
      "execution_count": null,
      "id": "24c13bf6",
      "metadata": {
        "id": "24c13bf6",
        "outputId": "33d252d6-285e-4dc9-95e5-bb46f983ed01"
      },
      "outputs": [
        {
          "data": {
            "image/png": "[encoded data removed]",
            "text/plain": [
              "<Figure size 1200x600 with 1 Axes>"
            ]
          },
          "metadata": {},
          "output_type": "display_data"
        }
      ],
      "source": [
        "import pandas as pd\n",
        "import matplotlib.pyplot as plt\n",
        "\n",
        "# Baca dua file\n",
        "df_5menit = pd.read_csv(\"rekap_time_investment.csv\")\n",
        "df_log = pd.read_csv(\"rekap_time_investment_2.csv\")\n",
        "\n",
        "# Samakan nama kolom durasi\n",
        "df_5menit = df_5menit.rename(columns={'total_durasi_menit': 'durasi_menit'})\n",
        "\n",
        "# Tambahkan info metode\n",
        "df_5menit[\"metode\"] = \"5 menit per akses\"\n",
        "df_log[\"metode\"] = \"Durasi antar log (tanpa batas)\"\n",
        "\n",
        "# Gabungkan kedua dataframe\n",
        "df_combined = pd.concat([df_5menit, df_log], ignore_index=True)\n",
        "\n",
        "# Hitung rata-rata durasi per pekan\n",
        "df_avg = df_combined.groupby([\"pekan\", \"metode\"])[\"durasi_menit\"].mean().reset_index()\n",
        "\n",
        "# Visualisasi\n",
        "plt.figure(figsize=(12, 6))\n",
        "for metode in df_avg[\"metode\"].unique():\n",
        "    data = df_avg[df_avg[\"metode\"] == metode]\n",
        "    plt.plot(data[\"pekan\"], data[\"durasi_menit\"], marker='o', label=metode)\n",
        "\n",
        "plt.title(\"Perbandingan Rata-rata Durasi Belajar per Pekan\")\n",
        "plt.xlabel(\"Pekan ke-\")\n",
        "plt.ylabel(\"Durasi Belajar (menit)\")\n",
        "plt.legend()\n",
        "plt.grid(True)\n",
        "plt.tight_layout()\n",
        "plt.show()\n"
      ]
    },
    {
      "cell_type": "code",
      "execution_count": null,
      "id": "f0cfc96a",
      "metadata": {
        "id": "f0cfc96a",
        "outputId": "0e87c160-af05-40bf-d998-627e79e2237b"
      },
      "outputs": [
        {
          "name": "stdout",
          "output_type": "stream",
          "text": [
            "✅ Semua file mingguan di 'per_pekan_full_final/' berhasil diperbarui dengan 'durasi_regularity_score'\n"
          ]
        }
      ],
      "source": [
        "import pandas as pd\n",
        "\n",
        "# STEP 1: Hitung regularity dari durasi belajar\n",
        "df = pd.read_csv(\"rekap_time_investment_2.csv\")\n",
        "\n",
        "# Hitung CV durasi per user\n",
        "stats = df.groupby(\"user_id\")[\"durasi_menit\"].agg([\"mean\", \"std\"]).reset_index()\n",
        "stats[\"cv\"] = stats[\"std\"] / stats[\"mean\"]\n",
        "stats[\"cv\"] = stats[\"cv\"].replace([float(\"inf\"), -float(\"inf\")], 0).fillna(0)\n",
        "\n",
        "# Normalisasi jadi skor 0–1\n",
        "max_cv = stats[\"cv\"].max()\n",
        "stats[\"durasi_regularity_score\"] = 1 - (stats[\"cv\"] / max_cv)\n",
        "\n",
        "# Ambil hanya kolom yang dibutuhkan\n",
        "reg_score = stats[[\"user_id\", \"durasi_regularity_score\"]]\n",
        "\n",
        "# STEP 2: Update semua file mingguan\n",
        "for week in range(1, 17):\n",
        "    file_path = f\"per_pekan_full_final/pekan_{week:02d}_final.csv\"\n",
        "    df_pekan = pd.read_csv(file_path)\n",
        "\n",
        "    # Hapus kolom lama kalau ada\n",
        "    df_pekan = df_pekan.drop(columns=[\"durasi_regularity_score\"], errors=\"ignore\")\n",
        "\n",
        "    # Gabungkan regularity\n",
        "    df_pekan = df_pekan.merge(reg_score, on=\"user_id\", how=\"left\")\n",
        "\n",
        "    # Isi NaN (kalau ada user baru) → 0\n",
        "    df_pekan[\"durasi_regularity_score\"] = df_pekan[\"durasi_regularity_score\"].fillna(0)\n",
        "\n",
        "    # Simpan kembali\n",
        "    df_pekan.to_csv(file_path, index=False)\n",
        "\n",
        "print(\"✅ Semua file mingguan di 'per_pekan_full_final/' berhasil diperbarui dengan 'durasi_regularity_score'\")\n"
      ]
    },
    {
      "cell_type": "code",
      "execution_count": null,
      "id": "29d12673",
      "metadata": {
        "id": "29d12673",
        "outputId": "c05570fb-5fdb-4907-96b9-0712bb6d1345"
      },
      "outputs": [
        {
          "name": "stdout",
          "output_type": "stream",
          "text": [
            "     user_id User full name  pekan  frekuensi_tugas_quiz  durasi_tugas_quiz\n",
            "288    76562    ABDUL MALIK      1                     0                  0\n",
            "289    76562    ABDUL MALIK      2                    14                140\n",
            "290    76562    ABDUL MALIK      3                     5                 50\n",
            "291    76562    ABDUL MALIK      4                     7                 70\n",
            "292    76562    ABDUL MALIK      5                     6                 60\n",
            "293    76562    ABDUL MALIK      6                     4                 40\n",
            "294    76562    ABDUL MALIK      7                     7                 70\n",
            "295    76562    ABDUL MALIK      8                     2                 20\n",
            "296    76562    ABDUL MALIK      9                     0                  0\n",
            "297    76562    ABDUL MALIK     10                     8                 80\n",
            "✅ Semua dataset mingguan quiz & tugas berhasil disimpan.\n"
          ]
        }
      ],
      "source": [
        "import pandas as pd\n",
        "import itertools\n",
        "\n",
        "# Baca data dan ubah waktu\n",
        "df = pd.read_csv(\"log_mahasiswa_bersih.csv\")\n",
        "df[\"Time\"] = pd.to_datetime(df[\"Time\"])\n",
        "df = df.sort_values(by=[\"user_id\", \"Time\"])\n",
        "\n",
        "# Tambah kolom pekan ke-berapa\n",
        "start_date = pd.to_datetime(\"2024-02-19\")\n",
        "df[\"pekan\"] = ((df[\"Time\"] - start_date).dt.days // 7) + 1\n",
        "\n",
        "# Ambil daftar user dan nama\n",
        "user_names = df[['user_id', 'User full name']].drop_duplicates()\n",
        "\n",
        "# Filter aktivitas kuis & tugas yang benar-benar menunjukkan pengerjaan\n",
        "event_quiz_tugas = [\n",
        "    \"Quiz attempt started\",\n",
        "    \"Quiz attempt submitted\",\n",
        "    \"Submission created.\",\n",
        "    \"A submission has been submitted.\"\n",
        "]\n",
        "\n",
        "mask = (\n",
        "    df[\"Component\"].isin([\"Quiz\", \"Assignment\"]) &\n",
        "    df[\"Event name\"].isin(event_quiz_tugas)\n",
        ")\n",
        "\n",
        "df_quiz_tugas = df[mask].copy()\n",
        "\n",
        "# Hitung frekuensi per user per pekan\n",
        "rekap_qt = df_quiz_tugas.groupby([\"user_id\", \"pekan\"]).size().reset_index(name=\"frekuensi_tugas_quiz\")\n",
        "rekap_qt[\"durasi_tugas_quiz\"] = rekap_qt[\"frekuensi_tugas_quiz\"] * 10  # asumsi 10 menit per aktivitas\n",
        "\n",
        "# Buat kombinasi semua user × pekan 1-16\n",
        "all_combinations = pd.DataFrame(list(itertools.product(user_names[\"user_id\"].unique(), range(1, 17))), columns=[\"user_id\", \"pekan\"])\n",
        "\n",
        "# Merge dengan rekap agar pekan tanpa aktivitas muncul\n",
        "rekap_qt = all_combinations.merge(rekap_qt, on=[\"user_id\", \"pekan\"], how=\"left\")\n",
        "\n",
        "# Isi NaN dengan 0\n",
        "rekap_qt[\"frekuensi_tugas_quiz\"] = rekap_qt[\"frekuensi_tugas_quiz\"].fillna(0).astype(int)\n",
        "rekap_qt[\"durasi_tugas_quiz\"] = rekap_qt[\"durasi_tugas_quiz\"].fillna(0).astype(int)\n",
        "\n",
        "# Tambahkan nama lengkap\n",
        "rekap_qt = rekap_qt.merge(user_names, on=\"user_id\", how=\"left\")\n",
        "\n",
        "# Urutkan hasil\n",
        "rekap_qt = rekap_qt[['user_id', 'User full name', 'pekan', 'frekuensi_tugas_quiz', 'durasi_tugas_quiz']]\n",
        "rekap_qt = rekap_qt.sort_values(by=['User full name', 'pekan'])\n",
        "\n",
        "# Simpan ke CSV\n",
        "rekap_qt.to_csv(\"rekap_quiz_tugas_per_minggu.csv\", index=False)\n",
        "\n",
        "print(rekap_qt.head(10))\n",
        "for pekan in range(1, 17):\n",
        "    df_mingguan = rekap_qt[rekap_qt[\"pekan\"] == pekan]\n",
        "    df_mingguan.to_csv(f\"dataset_quiz_tugas_pekan_{pekan}.csv\", index=False)\n",
        "\n",
        "print(\"✅ Semua dataset mingguan quiz & tugas berhasil disimpan.\")\n"
      ]
    },
    {
      "cell_type": "code",
      "execution_count": null,
      "id": "85dc2097",
      "metadata": {
        "id": "85dc2097",
        "outputId": "531cab76-6210-458c-cca2-ea046586e1d1"
      },
      "outputs": [
        {
          "name": "stdout",
          "output_type": "stream",
          "text": [
            "✅ Semua file quiz & tugas per minggu tersimpan di folder 'dataset_per_minggu/quiz_tugas'\n"
          ]
        }
      ],
      "source": [
        "import pandas as pd\n",
        "import os\n",
        "\n",
        "# Baca data rekap tugas & quiz\n",
        "rekap_qt = pd.read_csv(\"rekap_quiz_tugas_per_minggu.csv\")\n",
        "\n",
        "# Buat folder 'dataset_per_minggu/quiz_tugas' kalau belum ada\n",
        "output_folder = \"dataset_per_minggu/quiz_tugas\"\n",
        "os.makedirs(output_folder, exist_ok=True)\n",
        "\n",
        "# Simpan 16 file berdasarkan minggu\n",
        "for week in range(1, 17):\n",
        "    df_mingguan = rekap_qt[rekap_qt[\"week_num\"] == week]\n",
        "    filename = f\"{output_folder}/week_{week:02d}_quiz_tugas.csv\"\n",
        "    df_mingguan.to_csv(filename, index=False)\n",
        "\n",
        "print(\"✅ Semua file quiz & tugas per minggu tersimpan di folder 'dataset_per_minggu/quiz_tugas'\")\n"
      ]
    },
    {
      "cell_type": "code",
      "execution_count": null,
      "id": "c0eb1d75",
      "metadata": {
        "id": "c0eb1d75",
        "outputId": "3da80dc8-a270-49ef-8e11-482135b19223"
      },
      "outputs": [
        {
          "name": "stdout",
          "output_type": "stream",
          "text": [
            "✅ Semua dataset mingguan quiz & tugas berhasil disimpan.\n"
          ]
        }
      ],
      "source": [
        "import pandas as pd\n",
        "\n",
        "# Baca data rekap quiz dan tugas\n",
        "rekap_qt = pd.read_csv(\"rekap_quiz_tugas_per_minggu.csv\")\n",
        "\n",
        "# Loop dari week 1 sampai 16\n",
        "for week in range(1, 17):\n",
        "    df_mingguan = rekap_qt[rekap_qt[\"week_num\"] == week]\n",
        "    df_mingguan.to_csv(f\"dataset_quiz_tugas_pekan_{week}.csv\", index=False)\n",
        "\n",
        "print(\"✅ Semua dataset mingguan quiz & tugas berhasil disimpan.\")\n"
      ]
    },
    {
      "cell_type": "code",
      "execution_count": null,
      "id": "c6d41586",
      "metadata": {
        "id": "c6d41586",
        "outputId": "1a469086-0663-486e-ddc6-7b910a275cd5"
      },
      "outputs": [
        {
          "name": "stdout",
          "output_type": "stream",
          "text": [
            "✅ File utama 'total_aktivitas_forum_help_seeking.csv' berhasil disimpan!\n"
          ]
        }
      ],
      "source": [
        "import pandas as pd\n",
        "import os\n",
        "\n",
        "# Baca data log mahasiswa\n",
        "df = pd.read_csv(\"log_mahasiswa_bersih.csv\")\n",
        "df[\"Time\"] = pd.to_datetime(df[\"Time\"])\n",
        "\n",
        "# Tentukan awal minggu perkuliahan\n",
        "start_date = pd.to_datetime(\"2024-02-19\")\n",
        "\n",
        "# Hitung minggu keberapa dari start_date\n",
        "df[\"pekan\"] = ((df[\"Time\"] - start_date).dt.days // 7) + 1\n",
        "\n",
        "# Filter hanya minggu 1–16\n",
        "df = df[(df[\"pekan\"] >= 1) & (df[\"pekan\"] <= 16)]\n",
        "\n",
        "# Definisikan event terkait forum\n",
        "event_QA_visit = [\"Discussion viewed\"]\n",
        "event_QA_post = [\"Post created\", \"Comment created\", \"Some content has been posted\", \"Post updated\"]\n",
        "event_QA_all = event_QA_visit + event_QA_post\n",
        "\n",
        "# Ambil hanya aktivitas forum\n",
        "df_forum = df[df[\"Event name\"].isin(event_QA_all)].copy()\n",
        "\n",
        "# Hitung durasi aktivitas forum per pekan per mahasiswa\n",
        "forum_durasi = []\n",
        "for (user, pekan), group in df_forum.groupby([\"user_id\", \"pekan\"]):\n",
        "    group = group.sort_values(\"Time\")\n",
        "    group[\"Time_diff\"] = group[\"Time\"].diff().fillna(pd.Timedelta(seconds=0))\n",
        "    group[\"new_session\"] = group[\"Time_diff\"] > pd.Timedelta(minutes=30)\n",
        "    group[\"session_id\"] = group[\"new_session\"].cumsum()\n",
        "\n",
        "    for session_id, sesi in group.groupby(\"session_id\"):\n",
        "        if len(sesi) > 1:\n",
        "            durasi = sesi[\"Time\"].max() - sesi[\"Time\"].min()\n",
        "            forum_durasi.append({\n",
        "                \"user_id\": user,\n",
        "                \"pekan\": pekan,\n",
        "                \"durasi_sesi\": durasi.total_seconds() / 60  # satuan: menit\n",
        "            })\n",
        "\n",
        "# ➕ Gabungkan durasi sesi jadi total per user per pekan\n",
        "durasi_df = pd.DataFrame(forum_durasi)\n",
        "durasi_df = durasi_df.groupby([\"user_id\", \"pekan\"], as_index=False)[\"durasi_sesi\"].sum()\n",
        "durasi_df = durasi_df.rename(columns={\"durasi_sesi\": \"total_durasi_forum\"})\n",
        "\n",
        "# Hitung kunjungan ke forum\n",
        "kunjungan_df = df[df[\"Event name\"] == \"Discussion viewed\"] \\\n",
        "    .groupby([\"user_id\", \"pekan\"]).size().reset_index(name=\"jumlah_kunjungan_forum\")\n",
        "\n",
        "# Hitung postingan forum\n",
        "pesan_df = df[df[\"Event name\"].isin(event_QA_post)] \\\n",
        "    .groupby([\"user_id\", \"pekan\"]).size().reset_index(name=\"jumlah_postingan_forum\")\n",
        "\n",
        "# Gabungkan semua jadi 1 DataFrame\n",
        "forum_summary = pd.merge(durasi_df, kunjungan_df, on=[\"user_id\", \"pekan\"], how=\"outer\")\n",
        "forum_summary = pd.merge(forum_summary, pesan_df, on=[\"user_id\", \"pekan\"], how=\"outer\")\n",
        "\n",
        "# Bersihkan NaN → jadi 0\n",
        "forum_summary = forum_summary.fillna(0)\n",
        "\n",
        "# Simpan file full-nya\n",
        "forum_summary.to_csv(\"total_aktivitas_forum_help_seeking.csv\", index=False, encoding='utf-8')\n",
        "print(\"✅ File utama 'total_aktivitas_forum_help_seeking.csv' berhasil disimpan!\")\n"
      ]
    },
    {
      "cell_type": "code",
      "execution_count": null,
      "id": "b7ad1e30",
      "metadata": {
        "id": "b7ad1e30",
        "outputId": "763670b2-868c-4fbc-d9e8-4f8ec33555ee"
      },
      "outputs": [
        {
          "name": "stdout",
          "output_type": "stream",
          "text": [
            "✅ Semua dataset per pekan final sudah bebas dari missing value dan duplikat.\n"
          ]
        }
      ],
      "source": [
        "import pandas as pd\n",
        "import os\n",
        "\n",
        "# === 1. BACA FILE HELP SEEKING DAN RAPIHIN ===\n",
        "df_help = pd.read_csv(\"total_aktivitas_forum_help_seeking.csv\")\n",
        "df_help = df_help.rename(columns={\"week_num\": \"pekan\"})\n",
        "\n",
        "# Buat folder baru untuk simpan hasil akhir\n",
        "os.makedirs(\"per_pekan_full_final\", exist_ok=True)\n",
        "\n",
        "# === 2. LOOP DARI PEKAN 1–16 ===\n",
        "for pekan in range(1, 17):\n",
        "    # Baca file pekan sebelumnya\n",
        "    df_pekan = pd.read_csv(f\"per_pekan_full/pekan_{pekan:02d}_full.csv\")\n",
        "\n",
        "    # Rename kolom jika masih 'week_num'\n",
        "    if \"week_num\" in df_pekan.columns:\n",
        "        df_pekan = df_pekan.rename(columns={\"week_num\": \"pekan\"})\n",
        "\n",
        "    # Ambil data help_seeking pekan ini\n",
        "    df_help_pekan = df_help[df_help[\"pekan\"] == pekan][[\n",
        "        \"user_id\", \"total_durasi_forum\", \"jumlah_kunjungan_forum\", \"jumlah_postingan_forum\"\n",
        "    ]]\n",
        "\n",
        "    # Merge\n",
        "    df_final = pd.merge(df_pekan, df_help_pekan, on=\"user_id\", how=\"left\")\n",
        "\n",
        "    # Isi missing value jadi 0\n",
        "    df_final = df_final.fillna(0)\n",
        "\n",
        "    # Hapus duplikat baris (jika ada yang sama persis)\n",
        "    df_final = df_final.drop_duplicates()\n",
        "\n",
        "    # Pastikan tipe data sesuai\n",
        "    df_final[\"total_durasi_forum\"] = df_final[\"total_durasi_forum\"].astype(float)\n",
        "    df_final[\"jumlah_kunjungan_forum\"] = df_final[\"jumlah_kunjungan_forum\"].astype(int)\n",
        "    df_final[\"jumlah_postingan_forum\"] = df_final[\"jumlah_postingan_forum\"].astype(int)\n",
        "\n",
        "    # Simpan hasil ke folder final\n",
        "    df_final.to_csv(f\"per_pekan_full_final/pekan_{pekan:02d}_final.csv\", index=False)\n",
        "\n",
        "print(\"✅ Semua dataset per pekan final sudah bebas dari missing value dan duplikat.\")\n"
      ]
    },
    {
      "cell_type": "code",
      "execution_count": null,
      "id": "175549b8",
      "metadata": {
        "id": "175549b8",
        "outputId": "b6379a3e-07fd-4d92-c903-66a76e2e4ff8"
      },
      "outputs": [
        {
          "name": "stdout",
          "output_type": "stream",
          "text": [
            "✅ Semua file akhir (TI + QuizTugas + Forum) telah disimpan di folder 'per_pekan_full_final'\n"
          ]
        }
      ],
      "source": [
        "import pandas as pd\n",
        "import os\n",
        "\n",
        "# Load semua dataset tambahan\n",
        "rekap_qt = pd.read_csv(\"rekap_quiz_tugas_per_minggu.csv\").rename(columns={\"week_num\": \"pekan\"})\n",
        "rekap_forum = pd.read_csv(\"total_aktivitas_forum_help_seeking.csv\").rename(columns={\"week_num\": \"pekan\"})\n",
        "\n",
        "# Buat folder akhir\n",
        "os.makedirs(\"per_pekan_full_final\", exist_ok=True)\n",
        "\n",
        "# Loop dari pekan 1–16\n",
        "for pekan in range(1, 17):\n",
        "    # Load data time investment pekan ini\n",
        "    df_time = pd.read_csv(f\"per_pekan/pekan_{pekan:02d}_time_investment_2.csv\")\n",
        "    df_time[\"pekan\"] = pekan\n",
        "\n",
        "    # Ambil data quiz & tugas untuk pekan ini\n",
        "    df_qt = rekap_qt[rekap_qt[\"pekan\"] == pekan][[\n",
        "        \"user_id\", \"frekuensi_tugas_quiz\", \"durasi_tugas_quiz\"\n",
        "    ]]\n",
        "\n",
        "    # Ambil data forum (help seeking) untuk pekan ini\n",
        "    df_forum = rekap_forum[rekap_forum[\"pekan\"] == pekan][[\n",
        "        \"user_id\", \"total_durasi_forum\", \"jumlah_kunjungan_forum\", \"jumlah_postingan_forum\"\n",
        "    ]]\n",
        "\n",
        "    # Gabung Time Investment + QuizTugas\n",
        "    df_gabung = pd.merge(df_time, df_qt, on=\"user_id\", how=\"left\")\n",
        "\n",
        "    # Gabung lagi dengan Forum\n",
        "    df_gabung = pd.merge(df_gabung, df_forum, on=\"user_id\", how=\"left\")\n",
        "\n",
        "    # Isi missing values dengan 0\n",
        "    df_gabung[[\n",
        "        \"frekuensi_tugas_quiz\", \"durasi_tugas_quiz\",\n",
        "        \"total_durasi_forum\", \"jumlah_kunjungan_forum\", \"jumlah_postingan_forum\"\n",
        "    ]] = df_gabung[[\n",
        "        \"frekuensi_tugas_quiz\", \"durasi_tugas_quiz\",\n",
        "        \"total_durasi_forum\", \"jumlah_kunjungan_forum\", \"jumlah_postingan_forum\"\n",
        "    ]].fillna(0)\n",
        "\n",
        "    # Pastikan tipe data konsisten\n",
        "    df_gabung[\"frekuensi_tugas_quiz\"] = df_gabung[\"frekuensi_tugas_quiz\"].astype(int)\n",
        "    df_gabung[\"durasi_tugas_quiz\"] = df_gabung[\"durasi_tugas_quiz\"].astype(int)\n",
        "    df_gabung[\"jumlah_kunjungan_forum\"] = df_gabung[\"jumlah_kunjungan_forum\"].astype(int)\n",
        "    df_gabung[\"jumlah_postingan_forum\"] = df_gabung[\"jumlah_postingan_forum\"].astype(int)\n",
        "    df_gabung[\"total_durasi_forum\"] = df_gabung[\"total_durasi_forum\"].astype(float)\n",
        "\n",
        "    # Simpan ke file akhir\n",
        "    df_gabung.to_csv(f\"per_pekan_full_final/pekan_{pekan:02d}_final.csv\", index=False)\n",
        "\n",
        "print(\"✅ Semua file akhir (TI + QuizTugas + Forum) telah disimpan di folder 'per_pekan_full_final'\")\n"
      ]
    },
    {
      "cell_type": "code",
      "execution_count": null,
      "id": "d9bbffe4",
      "metadata": {
        "id": "d9bbffe4",
        "outputId": "b28a5ad5-77d5-4856-81e0-400abd63eb37"
      },
      "outputs": [
        {
          "name": "stdout",
          "output_type": "stream",
          "text": [
            "Time Investment Columns: ['user_id', 'User full name', 'pekan', 'frekuensi_file', 'frekuensi_url', 'frekuensi_page', 'frekuensi_h5p', 'total_frekuensi_akses', 'durasi_menit']\n",
            "Quiz Columns: ['user_id', 'User full name', 'week_num', 'frekuensi_tugas_quiz', 'durasi_tugas_quiz']\n",
            "Help Seeking Columns: ['user_id', 'week_num', 'total_durasi_forum', 'jumlah_kunjungan_forum', 'jumlah_postingan_forum']\n"
          ]
        }
      ],
      "source": [
        "import pandas as pd\n",
        "\n",
        "df_time = pd.read_csv(\"rekap_time_investment_full.csv\")\n",
        "df_quiz = pd.read_csv(\"rekap_quiz_tugas_per_minggu.csv\")\n",
        "df_help = pd.read_csv(\"total_aktivitas_forum_help_seeking.csv\")\n",
        "\n",
        "print(\"Time Investment Columns:\", df_time.columns.tolist())\n",
        "print(\"Quiz Columns:\", df_quiz.columns.tolist())\n",
        "print(\"Help Seeking Columns:\", df_help.columns.tolist())\n"
      ]
    },
    {
      "cell_type": "code",
      "execution_count": null,
      "id": "7ad1452e",
      "metadata": {
        "id": "7ad1452e",
        "outputId": "f9941d13-20d2-4f83-cae8-8980ef770a93"
      },
      "outputs": [
        {
          "name": "stdout",
          "output_type": "stream",
          "text": [
            "✅ Semua file per pekan berhasil ditambahkan regularity score dan disimpan di folder 'per_pekan_full_regularity'\n"
          ]
        }
      ],
      "source": [
        "import pandas as pd\n",
        "import numpy as np\n",
        "import os\n",
        "\n",
        "# === 1. Hitung Regularity Score dari Time Investment ===\n",
        "df_time = pd.read_csv(\"rekap_time_investment_2.csv\")\n",
        "\n",
        "# Hitung rata-rata dan std dev per mahasiswa dari durasi_menit\n",
        "stat = df_time.groupby(\"user_id\")[\"durasi_menit\"].agg(['mean', 'std']).reset_index()\n",
        "\n",
        "# Hindari pembagian nol\n",
        "stat['mean'] = stat['mean'].replace(0, np.nan)\n",
        "stat['konten_regularity_score'] = 1 - (stat['std'] / stat['mean'])\n",
        "stat['konten_regularity_score'] = stat['konten_regularity_score'].fillna(0).clip(lower=0)\n",
        "\n",
        "# Hanya ambil yang dibutuhkan\n",
        "df_regularity = stat[['user_id', 'konten_regularity_score']]\n",
        "\n",
        "# === 2. Gabungkan ke file per_pekan_full/ dan simpan ulang ke folder baru ===\n",
        "os.makedirs(\"per_pekan_full_regularity\", exist_ok=True)\n",
        "\n",
        "for pekan in range(1, 17):\n",
        "    df_pekan = pd.read_csv(f\"per_pekan_full/pekan_{pekan:02d}_full.csv\")\n",
        "\n",
        "    # Merge regularity ke masing-masing user\n",
        "    df_merged = pd.merge(df_pekan, df_regularity, on=\"user_id\", how=\"left\")\n",
        "    df_merged['konten_regularity_score'] = df_merged['konten_regularity_score'].fillna(0)\n",
        "\n",
        "    # Simpan ulang\n",
        "    df_merged.to_csv(f\"per_pekan_full_regularity/pekan_{pekan:02d}_full.csv\", index=False)\n",
        "\n",
        "print(\"✅ Semua file per pekan berhasil ditambahkan regularity score dan disimpan di folder 'per_pekan_full_regularity'\")\n"
      ]
    },
    {
      "cell_type": "code",
      "execution_count": null,
      "id": "844342de",
      "metadata": {
        "id": "844342de",
        "outputId": "fb5ba29e-ed53-4aff-d495-f952f1b0af7b"
      },
      "outputs": [
        {
          "name": "stdout",
          "output_type": "stream",
          "text": [
            "Index(['user_id', 'User full name', 'pekan', 'frekuensi_file', 'frekuensi_url',\n",
            "       'frekuensi_page', 'frekuensi_h5p', 'total_frekuensi_akses',\n",
            "       'durasi_menit', 'frekuensi_tugas_quiz', 'durasi_tugas_quiz',\n",
            "       'konten_regularity_score'],\n",
            "      dtype='object')\n"
          ]
        }
      ],
      "source": [
        "import pandas as pd\n",
        "\n",
        "df = pd.read_csv(\"per_pekan_full_regularity/pekan_01_full.csv\")\n",
        "\n",
        "# Tampilkan semua kolom\n",
        "print(df.columns)\n"
      ]
    },
    {
      "cell_type": "code",
      "execution_count": null,
      "id": "07c44723",
      "metadata": {
        "id": "07c44723",
        "outputId": "34c4096c-b7ec-47cb-cc5c-ade1fac322df"
      },
      "outputs": [
        {
          "name": "stdout",
          "output_type": "stream",
          "text": [
            "   user_id  durasi_menit  total_frekuensi_akses  konten_regularity_score\n",
            "0    76562          30.0                      2                   0.0000\n",
            "1    76154           0.0                      0                   0.0000\n",
            "2    77897          60.0                      4                   0.0879\n",
            "3    76754          17.0                      6                   0.2785\n",
            "4    76963           0.0                      0                   0.0000\n"
          ]
        }
      ],
      "source": [
        "import pandas as pd\n",
        "\n",
        "# Baca salah satu file setelah digabungkan\n",
        "df = pd.read_csv(\"per_pekan_full_regularity/pekan_01_full.csv\")\n",
        "\n",
        "# Tampilkan 5 baris pertama dengan pembulatan 4 angka di belakang koma\n",
        "output = df[[\"user_id\", \"durasi_menit\", \"total_frekuensi_akses\", \"konten_regularity_score\"]].copy()\n",
        "output[\"konten_regularity_score\"] = output[\"konten_regularity_score\"].round(4)\n",
        "\n",
        "print(output.head())\n"
      ]
    },
    {
      "cell_type": "code",
      "execution_count": null,
      "id": "4453a7b2",
      "metadata": {
        "id": "4453a7b2"
      },
      "outputs": [],
      "source": []
    },
    {
      "cell_type": "code",
      "execution_count": null,
      "id": "9d6db1b5",
      "metadata": {
        "id": "9d6db1b5",
        "outputId": "7e46972d-c882-4a15-fdff-1073c624d131"
      },
      "outputs": [
        {
          "name": "stdout",
          "output_type": "stream",
          "text": [
            "✅ Semua file akhir lengkap (TI + QuizTugas + Forum + Regularity) disimpan di folder 'per_pekan_full_final'\n"
          ]
        }
      ],
      "source": [
        "import pandas as pd\n",
        "import os\n",
        "import numpy as np\n",
        "\n",
        "# === 1. Load semua dataset tambahan ===\n",
        "rekap_qt = pd.read_csv(\"rekap_quiz_tugas_per_minggu.csv\").rename(columns={\"week_num\": \"pekan\"})\n",
        "rekap_forum = pd.read_csv(\"total_aktivitas_forum_help_seeking.csv\").rename(columns={\"week_num\": \"pekan\"})\n",
        "df_time_all = pd.read_csv(\"rekap_time_investment_2.csv\")\n",
        "\n",
        "# === 2. Hitung konten regularity score ===\n",
        "stat = df_time_all.groupby(\"user_id\")[\"durasi_menit\"].agg(['mean', 'std']).reset_index()\n",
        "stat['mean'] = stat['mean'].replace(0, np.nan)\n",
        "stat['konten_regularity_score'] = 1 - (stat['std'] / stat['mean'])\n",
        "stat['konten_regularity_score'] = stat['konten_regularity_score'].fillna(0).clip(lower=0)\n",
        "df_regularity = stat[['user_id', 'konten_regularity_score']]\n",
        "\n",
        "# === 3. Buat folder output final ===\n",
        "os.makedirs(\"per_pekan_full_final\", exist_ok=True)\n",
        "\n",
        "# === 4. Loop 16 pekan ===\n",
        "for pekan in range(1, 17):\n",
        "    df_time = pd.read_csv(f\"per_pekan/pekan_{pekan:02d}_time_investment_2.csv\")\n",
        "    df_time[\"pekan\"] = pekan\n",
        "\n",
        "    df_qt = rekap_qt[rekap_qt[\"pekan\"] == pekan][[\n",
        "        \"user_id\", \"frekuensi_tugas_quiz\", \"durasi_tugas_quiz\"\n",
        "    ]]\n",
        "\n",
        "    df_forum = rekap_forum[rekap_forum[\"pekan\"] == pekan][[\n",
        "        \"user_id\", \"total_durasi_forum\", \"jumlah_kunjungan_forum\", \"jumlah_postingan_forum\"\n",
        "    ]]\n",
        "\n",
        "    # Gabung semua\n",
        "    df_gabung = pd.merge(df_time, df_qt, on=\"user_id\", how=\"left\")\n",
        "    df_gabung = pd.merge(df_gabung, df_forum, on=\"user_id\", how=\"left\")\n",
        "    df_gabung = pd.merge(df_gabung, df_regularity, on=\"user_id\", how=\"left\")\n",
        "\n",
        "    # Bersihkan missing value\n",
        "    df_gabung[[\n",
        "        \"frekuensi_tugas_quiz\", \"durasi_tugas_quiz\",\n",
        "        \"total_durasi_forum\", \"jumlah_kunjungan_forum\", \"jumlah_postingan_forum\",\n",
        "        \"konten_regularity_score\"\n",
        "    ]] = df_gabung[[\n",
        "        \"frekuensi_tugas_quiz\", \"durasi_tugas_quiz\",\n",
        "        \"total_durasi_forum\", \"jumlah_kunjungan_forum\", \"jumlah_postingan_forum\",\n",
        "        \"konten_regularity_score\"\n",
        "    ]].fillna(0)\n",
        "\n",
        "    # Ubah tipe data\n",
        "    df_gabung[\"frekuensi_tugas_quiz\"] = df_gabung[\"frekuensi_tugas_quiz\"].astype(int)\n",
        "    df_gabung[\"durasi_tugas_quiz\"] = df_gabung[\"durasi_tugas_quiz\"].astype(int)\n",
        "    df_gabung[\"jumlah_kunjungan_forum\"] = df_gabung[\"jumlah_kunjungan_forum\"].astype(int)\n",
        "    df_gabung[\"jumlah_postingan_forum\"] = df_gabung[\"jumlah_postingan_forum\"].astype(int)\n",
        "    df_gabung[\"total_durasi_forum\"] = df_gabung[\"total_durasi_forum\"].astype(float)\n",
        "    df_gabung[\"konten_regularity_score\"] = df_gabung[\"konten_regularity_score\"].round(4)\n",
        "\n",
        "    # Simpan ke file\n",
        "    df_gabung.to_csv(f\"per_pekan_full_final/pekan_{pekan:02d}_final.csv\", index=False)\n",
        "\n",
        "print(\"✅ Semua file akhir lengkap (TI + QuizTugas + Forum + Regularity) disimpan di folder 'per_pekan_full_final'\")\n"
      ]
    },
    {
      "cell_type": "code",
      "execution_count": null,
      "id": "9f11bfc3",
      "metadata": {
        "id": "9f11bfc3",
        "outputId": "da06b085-0e31-49ff-c82b-c1e546b88238"
      },
      "outputs": [
        {
          "name": "stdout",
          "output_type": "stream",
          "text": [
            "✅ Total baris: 688\n",
            "📌 Kolom: ['user_id', 'User full name', 'pekan', 'frekuensi_file', 'frekuensi_url', 'frekuensi_page', 'frekuensi_h5p', 'total_frekuensi_akses', 'durasi_menit', 'frekuensi_tugas_quiz', 'durasi_tugas_quiz', 'total_durasi_forum', 'jumlah_kunjungan_forum', 'jumlah_postingan_forum', 'konten_regularity_score']\n"
          ]
        }
      ],
      "source": [
        "import pandas as pd\n",
        "import glob\n",
        "\n",
        "# Ambil semua file pekanan\n",
        "file_paths = sorted(glob.glob(\"per_pekan_full_final/pekan_*_final.csv\"))\n",
        "\n",
        "# Gabungkan semua file\n",
        "df_all = pd.concat([pd.read_csv(fp) for fp in file_paths], ignore_index=True)\n",
        "\n",
        "# Cek\n",
        "print(\"✅ Total baris:\", len(df_all))\n",
        "print(\"📌 Kolom:\", df_all.columns.tolist())\n",
        "\n",
        "# Simpan sebagai file gabungan\n",
        "df_all.to_csv(\"data_final_gabungan.csv\", index=False)\n"
      ]
    },
    {
      "cell_type": "code",
      "execution_count": null,
      "id": "c150121a",
      "metadata": {
        "id": "c150121a",
        "outputId": "2e847c8e-9032-4c99-b71d-853e7f27f908"
      },
      "outputs": [
        {
          "name": "stdout",
          "output_type": "stream",
          "text": [
            "(688, 15)\n"
          ]
        },
        {
          "data": {
            "text/html": [
              "<div>\n",
              "<style scoped>\n",
              "    .dataframe tbody tr th:only-of-type {\n",
              "        vertical-align: middle;\n",
              "    }\n",
              "\n",
              "    .dataframe tbody tr th {\n",
              "        vertical-align: top;\n",
              "    }\n",
              "\n",
              "    .dataframe thead th {\n",
              "        text-align: right;\n",
              "    }\n",
              "</style>\n",
              "<table border=\"1\" class=\"dataframe\">\n",
              "  <thead>\n",
              "    <tr style=\"text-align: right;\">\n",
              "      <th></th>\n",
              "      <th>user_id</th>\n",
              "      <th>User full name</th>\n",
              "      <th>pekan</th>\n",
              "      <th>frekuensi_file</th>\n",
              "      <th>frekuensi_url</th>\n",
              "      <th>frekuensi_page</th>\n",
              "      <th>frekuensi_h5p</th>\n",
              "      <th>total_frekuensi_akses</th>\n",
              "      <th>durasi_menit</th>\n",
              "      <th>frekuensi_tugas_quiz</th>\n",
              "      <th>durasi_tugas_quiz</th>\n",
              "      <th>total_durasi_forum</th>\n",
              "      <th>jumlah_kunjungan_forum</th>\n",
              "      <th>jumlah_postingan_forum</th>\n",
              "      <th>konten_regularity_score</th>\n",
              "    </tr>\n",
              "  </thead>\n",
              "  <tbody>\n",
              "    <tr>\n",
              "      <th>0</th>\n",
              "      <td>76562</td>\n",
              "      <td>ABDUL MALIK</td>\n",
              "      <td>1</td>\n",
              "      <td>0</td>\n",
              "      <td>0</td>\n",
              "      <td>0</td>\n",
              "      <td>2</td>\n",
              "      <td>2</td>\n",
              "      <td>30.0</td>\n",
              "      <td>0</td>\n",
              "      <td>0</td>\n",
              "      <td>41.0</td>\n",
              "      <td>13</td>\n",
              "      <td>3</td>\n",
              "      <td>0.0000</td>\n",
              "    </tr>\n",
              "    <tr>\n",
              "      <th>1</th>\n",
              "      <td>76154</td>\n",
              "      <td>ADAM IBNU ALFATAH</td>\n",
              "      <td>1</td>\n",
              "      <td>0</td>\n",
              "      <td>0</td>\n",
              "      <td>0</td>\n",
              "      <td>0</td>\n",
              "      <td>0</td>\n",
              "      <td>0.0</td>\n",
              "      <td>0</td>\n",
              "      <td>0</td>\n",
              "      <td>39.0</td>\n",
              "      <td>7</td>\n",
              "      <td>1</td>\n",
              "      <td>0.0000</td>\n",
              "    </tr>\n",
              "    <tr>\n",
              "      <th>2</th>\n",
              "      <td>77897</td>\n",
              "      <td>AKBAR CAHYO TRIYONO</td>\n",
              "      <td>1</td>\n",
              "      <td>1</td>\n",
              "      <td>1</td>\n",
              "      <td>2</td>\n",
              "      <td>0</td>\n",
              "      <td>4</td>\n",
              "      <td>60.0</td>\n",
              "      <td>0</td>\n",
              "      <td>0</td>\n",
              "      <td>36.0</td>\n",
              "      <td>4</td>\n",
              "      <td>1</td>\n",
              "      <td>0.0879</td>\n",
              "    </tr>\n",
              "    <tr>\n",
              "      <th>3</th>\n",
              "      <td>76754</td>\n",
              "      <td>ANA ZULFIA</td>\n",
              "      <td>1</td>\n",
              "      <td>1</td>\n",
              "      <td>1</td>\n",
              "      <td>0</td>\n",
              "      <td>4</td>\n",
              "      <td>6</td>\n",
              "      <td>17.0</td>\n",
              "      <td>4</td>\n",
              "      <td>40</td>\n",
              "      <td>15.0</td>\n",
              "      <td>7</td>\n",
              "      <td>2</td>\n",
              "      <td>0.2785</td>\n",
              "    </tr>\n",
              "    <tr>\n",
              "      <th>4</th>\n",
              "      <td>76963</td>\n",
              "      <td>ANASTASIUS SENTYA KURNIA ARDYANDARU</td>\n",
              "      <td>1</td>\n",
              "      <td>0</td>\n",
              "      <td>0</td>\n",
              "      <td>0</td>\n",
              "      <td>0</td>\n",
              "      <td>0</td>\n",
              "      <td>0.0</td>\n",
              "      <td>0</td>\n",
              "      <td>0</td>\n",
              "      <td>0.0</td>\n",
              "      <td>3</td>\n",
              "      <td>0</td>\n",
              "      <td>0.0000</td>\n",
              "    </tr>\n",
              "  </tbody>\n",
              "</table>\n",
              "</div>"
            ],
            "text/plain": [
              "   user_id                       User full name  pekan  frekuensi_file  \\\n",
              "0    76562                          ABDUL MALIK      1               0   \n",
              "1    76154                    ADAM IBNU ALFATAH      1               0   \n",
              "2    77897                  AKBAR CAHYO TRIYONO      1               1   \n",
              "3    76754                           ANA ZULFIA      1               1   \n",
              "4    76963  ANASTASIUS SENTYA KURNIA ARDYANDARU      1               0   \n",
              "\n",
              "   frekuensi_url  frekuensi_page  frekuensi_h5p  total_frekuensi_akses  \\\n",
              "0              0               0              2                      2   \n",
              "1              0               0              0                      0   \n",
              "2              1               2              0                      4   \n",
              "3              1               0              4                      6   \n",
              "4              0               0              0                      0   \n",
              "\n",
              "   durasi_menit  frekuensi_tugas_quiz  durasi_tugas_quiz  total_durasi_forum  \\\n",
              "0          30.0                     0                  0                41.0   \n",
              "1           0.0                     0                  0                39.0   \n",
              "2          60.0                     0                  0                36.0   \n",
              "3          17.0                     4                 40                15.0   \n",
              "4           0.0                     0                  0                 0.0   \n",
              "\n",
              "   jumlah_kunjungan_forum  jumlah_postingan_forum  konten_regularity_score  \n",
              "0                      13                       3                   0.0000  \n",
              "1                       7                       1                   0.0000  \n",
              "2                       4                       1                   0.0879  \n",
              "3                       7                       2                   0.2785  \n",
              "4                       3                       0                   0.0000  "
            ]
          },
          "execution_count": 27,
          "metadata": {},
          "output_type": "execute_result"
        }
      ],
      "source": [
        "import pandas as pd\n",
        "\n",
        "df = pd.read_csv(\"data_final_gabungan.csv\")\n",
        "print(df.shape)\n",
        "df.head()\n"
      ]
    },
    {
      "cell_type": "markdown",
      "id": "b4c6042f",
      "metadata": {
        "id": "b4c6042f"
      },
      "source": [
        "NORMALISASI DATA"
      ]
    },
    {
      "cell_type": "code",
      "execution_count": null,
      "id": "5be01f23",
      "metadata": {
        "id": "5be01f23",
        "outputId": "661d8ffd-9966-43d3-efdf-e30c5272abcf"
      },
      "outputs": [
        {
          "name": "stdout",
          "output_type": "stream",
          "text": [
            "✅ Data berhasil dinormalisasi dan disimpan sebagai 'data_normalized.csv'\n",
            "   user_id                       User full name  pekan  frekuensi_file  \\\n",
            "0    76562                          ABDUL MALIK      1        0.000000   \n",
            "1    76154                    ADAM IBNU ALFATAH      1        0.000000   \n",
            "2    77897                  AKBAR CAHYO TRIYONO      1        0.142857   \n",
            "3    76754                           ANA ZULFIA      1        0.142857   \n",
            "4    76963  ANASTASIUS SENTYA KURNIA ARDYANDARU      1        0.000000   \n",
            "\n",
            "   frekuensi_url  frekuensi_page  frekuensi_h5p  total_frekuensi_akses  \\\n",
            "0       0.000000        0.000000       0.022727               0.020619   \n",
            "1       0.000000        0.000000       0.000000               0.000000   \n",
            "2       0.076923        0.285714       0.000000               0.041237   \n",
            "3       0.076923        0.000000       0.045455               0.061856   \n",
            "4       0.000000        0.000000       0.000000               0.000000   \n",
            "\n",
            "   durasi_menit  frekuensi_tugas_quiz  durasi_tugas_quiz  total_durasi_forum  \\\n",
            "0      0.047319                   0.0                0.0            0.476744   \n",
            "1      0.000000                   0.0                0.0            0.453488   \n",
            "2      0.094637                   0.0                0.0            0.418605   \n",
            "3      0.026814                   0.2                0.2            0.174419   \n",
            "4      0.000000                   0.0                0.0            0.000000   \n",
            "\n",
            "   jumlah_kunjungan_forum  jumlah_postingan_forum  konten_regularity_score  \n",
            "0                0.083871                0.333333                 0.000000  \n",
            "1                0.045161                0.111111                 0.000000  \n",
            "2                0.025806                0.111111                 0.201559  \n",
            "3                0.045161                0.222222                 0.638615  \n",
            "4                0.019355                0.000000                 0.000000  \n"
          ]
        }
      ],
      "source": [
        "import pandas as pd\n",
        "from sklearn.preprocessing import MinMaxScaler\n",
        "\n",
        "# 1. Baca data\n",
        "df = pd.read_csv(\"data_final_gabungan.csv\")  # Ganti jika nama file berbeda\n",
        "\n",
        "# 2. Pilih kolom numerik yang akan dinormalisasi (kecuali user_id, nama, pekan)\n",
        "fitur_numerik = [\n",
        "    'frekuensi_file', 'frekuensi_url', 'frekuensi_page', 'frekuensi_h5p',\n",
        "    'total_frekuensi_akses', 'durasi_menit', 'frekuensi_tugas_quiz',\n",
        "    'durasi_tugas_quiz', 'total_durasi_forum', 'jumlah_kunjungan_forum',\n",
        "    'jumlah_postingan_forum', 'konten_regularity_score'\n",
        "]\n",
        "\n",
        "# 3. Simpan kolom non-numerik agar bisa digabung lagi nanti\n",
        "df_non_numerik = df[['user_id', 'User full name', 'pekan']].copy()\n",
        "\n",
        "# 4. Normalisasi dengan MinMaxScaler\n",
        "scaler = MinMaxScaler()\n",
        "df_numerik_normalized = pd.DataFrame(scaler.fit_transform(df[fitur_numerik]), columns=fitur_numerik)\n",
        "\n",
        "# 5. Gabungkan kembali\n",
        "df_normalized = pd.concat([df_non_numerik, df_numerik_normalized], axis=1)\n",
        "\n",
        "# 6. Simpan\n",
        "df_normalized.to_csv(\"data_normalized.csv\", index=False)\n",
        "\n",
        "print(\"✅ Data berhasil dinormalisasi dan disimpan sebagai 'data_normalized.csv'\")\n",
        "print(df_normalized.head())\n"
      ]
    },
    {
      "cell_type": "markdown",
      "id": "4eb53f31",
      "metadata": {
        "id": "4eb53f31"
      },
      "source": [
        "CLUSTERING K-MEANS"
      ]
    },
    {
      "cell_type": "code",
      "execution_count": null,
      "id": "fa785b59",
      "metadata": {
        "id": "fa785b59",
        "outputId": "7a51bb8f-49ff-4af0-8e9f-77618cf44fd3"
      },
      "outputs": [
        {
          "data": {
            "image/png": "[encoded data removed]",
            "text/plain": [
              "<Figure size 640x480 with 1 Axes>"
            ]
          },
          "metadata": {},
          "output_type": "display_data"
        }
      ],
      "source": [
        "import pandas as pd\n",
        "from sklearn.preprocessing import MinMaxScaler\n",
        "from sklearn.cluster import KMeans\n",
        "import matplotlib.pyplot as plt\n",
        "import seaborn as sns\n",
        "\n",
        "# Load data\n",
        "df = pd.read_csv(\"data_normalized.csv\")\n",
        "\n",
        "# Drop kolom non-fitur\n",
        "fitur = df.drop(columns=[\"user_id\", \"User full name\", \"pekan\"])\n",
        "\n",
        "# Normalisasi\n",
        "scaler = MinMaxScaler()\n",
        "fitur_scaled = scaler.fit_transform(fitur)\n",
        "\n",
        "# Tentukan jumlah cluster optimal (pakai elbow method)\n",
        "inertia = []\n",
        "K = range(1, 10)\n",
        "for k in K:\n",
        "    kmeans = KMeans(n_clusters=k, random_state=42)\n",
        "    kmeans.fit(fitur_scaled)\n",
        "    inertia.append(kmeans.inertia_)\n",
        "\n",
        "# Plot elbow\n",
        "plt.plot(K, inertia, marker='o')\n",
        "plt.xlabel('Jumlah Cluster (k)')\n",
        "plt.ylabel('Inertia')\n",
        "plt.title('')\n",
        "plt.grid(True)\n",
        "plt.show()\n"
      ]
    },
    {
      "cell_type": "markdown",
      "id": "e0aae734",
      "metadata": {
        "id": "e0aae734"
      },
      "source": [
        "SHILLOUTE SCORE\n"
      ]
    },
    {
      "cell_type": "code",
      "execution_count": null,
      "id": "9c026b7a",
      "metadata": {
        "id": "9c026b7a",
        "outputId": "537d6cf3-9768-4165-f149-878b58630a21"
      },
      "outputs": [
        {
          "data": {
            "image/png": "[encoded data removed]",
            "text/plain": [
              "<Figure size 640x480 with 1 Axes>"
            ]
          },
          "metadata": {},
          "output_type": "display_data"
        }
      ],
      "source": [
        "from sklearn.metrics import silhouette_score\n",
        "\n",
        "silhouette_scores = []\n",
        "\n",
        "for k in range(2, 10):  # minimal k = 2 untuk silhouette\n",
        "    kmeans = KMeans(n_clusters=k, random_state=42)\n",
        "    labels = kmeans.fit_predict(fitur_scaled)\n",
        "    score = silhouette_score(fitur_scaled, labels)\n",
        "    silhouette_scores.append(score)\n",
        "\n",
        "# Plot Silhouette Score\n",
        "plt.plot(range(2, 10), silhouette_scores, marker='o')\n",
        "plt.xlabel('Jumlah Cluster (k)')\n",
        "plt.ylabel('Silhouette Score')\n",
        "plt.title('')\n",
        "plt.grid(True)\n",
        "plt.show()\n"
      ]
    },
    {
      "cell_type": "code",
      "execution_count": null,
      "id": "85db8834",
      "metadata": {
        "id": "85db8834",
        "outputId": "82541482-b94b-4dd3-83c2-7f0e8481f969"
      },
      "outputs": [
        {
          "name": "stdout",
          "output_type": "stream",
          "text": [
            "✅ Data clustering SRL berhasil disimpan sebagai 'data_clustered_srl.csv'\n"
          ]
        }
      ],
      "source": [
        "import pandas as pd\n",
        "from sklearn.cluster import KMeans\n",
        "\n",
        "# 1. Load data normalisasi\n",
        "df = pd.read_csv(\"data_normalized.csv\")\n",
        "\n",
        "# 2. Simpan kolom non-fitur untuk nanti digabung lagi\n",
        "meta = df[[\"user_id\", \"User full name\", \"pekan\"]]\n",
        "fitur = df.drop(columns=[\"user_id\", \"User full name\", \"pekan\"])\n",
        "\n",
        "# 3. Clustering KMeans dengan k=3\n",
        "kmeans = KMeans(n_clusters=3, random_state=42)\n",
        "df['cluster'] = kmeans.fit_predict(fitur)\n",
        "\n",
        "# 4. Mapping nama cluster → SRL Label\n",
        "cluster_mean = df.groupby(\"cluster\")[fitur.columns].mean()\n",
        "sorted_cluster = cluster_mean.mean(axis=1).sort_values(ascending=False)\n",
        "mapping = {idx: label for idx, label in zip(sorted_cluster.index, ['Tinggi', 'Sedang', 'Rendah'])}\n",
        "df[\"SRL_label\"] = df[\"cluster\"].map(mapping)\n",
        "\n",
        "# 5. Gabungkan kembali dengan info awal\n",
        "df_final = pd.concat([meta, fitur, df[[\"cluster\", \"SRL_label\"]]], axis=1)\n",
        "\n",
        "# 6. Simpan ke file\n",
        "df_final.to_csv(\"data_clustered_srl.csv\", index=False)\n",
        "print(\"✅ Data clustering SRL berhasil disimpan sebagai 'data_clustered_srl.csv'\")\n"
      ]
    },
    {
      "cell_type": "code",
      "execution_count": null,
      "id": "7e668e8f",
      "metadata": {
        "id": "7e668e8f",
        "outputId": "f716d3ee-ddc8-4492-b131-7f732a836e47"
      },
      "outputs": [
        {
          "name": "stdout",
          "output_type": "stream",
          "text": [
            "['user_id', 'User full name', 'pekan', 'frekuensi_file', 'frekuensi_url', 'frekuensi_page', 'frekuensi_h5p', 'total_frekuensi_akses', 'durasi_menit', 'frekuensi_tugas_quiz', 'durasi_tugas_quiz', 'total_durasi_forum', 'jumlah_kunjungan_forum', 'jumlah_postingan_forum', 'konten_regularity_score', 'cluster', 'SRL_label']\n"
          ]
        }
      ],
      "source": [
        "import pandas as pd\n",
        "\n",
        "# Baca file\n",
        "df = pd.read_csv(\"data_clustered_srl.csv\")\n",
        "\n",
        "# Ganti nama kolom\n",
        "df.rename(columns={\"SRL_level\": \"SRL_label\"}, inplace=True)\n",
        "\n",
        "# Simpan kembali ke file yang sama\n",
        "df.to_csv(\"data_clustered_srl.csv\", index=False)\n",
        "\n",
        "# Tampilkan kolom untuk konfirmasi\n",
        "print(df.columns.tolist())\n"
      ]
    },
    {
      "cell_type": "code",
      "execution_count": null,
      "id": "d11b9956",
      "metadata": {
        "id": "d11b9956",
        "outputId": "2872ae99-c7cc-45ab-b6d2-9a390ad976a9"
      },
      "outputs": [
        {
          "name": "stdout",
          "output_type": "stream",
          "text": [
            "frekuensi_tugas_quiz      121.550000\n",
            "jumlah_postingan_forum     58.222222\n",
            "frekuensi_file             51.000000\n",
            "frekuensi_url              29.307692\n",
            "jumlah_kunjungan_forum     26.200000\n",
            "frekuensi_h5p              19.511364\n",
            "frekuensi_page              9.142857\n",
            "dtype: float64\n"
          ]
        }
      ],
      "source": [
        "# Ringkasan total per fitur\n",
        "event_summary = df[['frekuensi_file', 'frekuensi_url', 'frekuensi_page',\n",
        "                    'frekuensi_h5p', 'frekuensi_tugas_quiz', 'jumlah_kunjungan_forum',\n",
        "                    'jumlah_postingan_forum']].sum().sort_values(ascending=False)\n",
        "\n",
        "print(event_summary)\n"
      ]
    },
    {
      "cell_type": "markdown",
      "id": "5cde5881",
      "metadata": {
        "id": "5cde5881"
      },
      "source": [
        "DISTRIBUSI SRL\n",
        "DARI K-MEANS CLUSTERING"
      ]
    },
    {
      "cell_type": "code",
      "execution_count": null,
      "id": "12087136",
      "metadata": {
        "id": "12087136",
        "outputId": "37d332dd-326b-48fa-cda2-20c745f5ee6f"
      },
      "outputs": [
        {
          "name": "stdout",
          "output_type": "stream",
          "text": [
            "     user_id SRL_label\n",
            "0      76562    Rendah\n",
            "1      76154    Rendah\n",
            "2      77897    Rendah\n",
            "3      76754    Tinggi\n",
            "4      76963    Rendah\n",
            "..       ...       ...\n",
            "683    76929    Sedang\n",
            "684    76796    Rendah\n",
            "685    76192    Rendah\n",
            "686    76261    Rendah\n",
            "687    76686    Rendah\n",
            "\n",
            "[688 rows x 2 columns]\n"
          ]
        }
      ],
      "source": [
        "import pandas as pd\n",
        "\n",
        "# Baca file\n",
        "df = pd.read_csv(\"data_clustered_srl.csv\")\n",
        "\n",
        "# Ganti nama kolom jika perlu\n",
        "df.rename(columns={\"SRL_level\": \"SRL_label\"}, inplace=True)\n",
        "\n",
        "# Simpan kembali ke file yang sama\n",
        "df.to_csv(\"data_clustered_srl.csv\", index=False)\n",
        "\n",
        "# Tampilkan hanya kolom user_id dan SRL_label\n",
        "print(df[[\"user_id\", \"SRL_label\"]])\n"
      ]
    },
    {
      "cell_type": "code",
      "execution_count": null,
      "id": "ba864111",
      "metadata": {
        "id": "ba864111",
        "outputId": "b686812d-0894-4c07-dd3e-93fb2c12b17f"
      },
      "outputs": [
        {
          "data": {
            "image/png": "[encoded data removed]",
            "text/plain": [
              "<Figure size 600x600 with 1 Axes>"
            ]
          },
          "metadata": {},
          "output_type": "display_data"
        }
      ],
      "source": [
        "import pandas as pd\n",
        "import seaborn as sns\n",
        "import matplotlib.pyplot as plt\n",
        "\n",
        "# Baca ulang file yang sudah di-update\n",
        "df = pd.read_csv(\"data_clustered_srl.csv\")\n",
        "\n",
        "# Hitung jumlah data per level\n",
        "cluster_counts = df[\"SRL_label\"].value_counts()\n",
        "\n",
        "# Pie chart\n",
        "plt.figure(figsize=(6, 6))\n",
        "cluster_counts.plot.pie(autopct='%1.1f%%', startangle=90)\n",
        "plt.ylabel(\"\")\n",
        "plt.title(\"Distribusi Kategori SRL\")\n",
        "plt.show()\n"
      ]
    },
    {
      "cell_type": "markdown",
      "id": "12e3fad2",
      "metadata": {
        "id": "12e3fad2"
      },
      "source": [
        "### **EVALUASI AKURASI RANDOM FOREST DATASET GABUNGAN**\n"
      ]
    },
    {
      "cell_type": "code",
      "execution_count": null,
      "id": "31e6fd4b",
      "metadata": {
        "id": "31e6fd4b",
        "outputId": "5b068abc-935b-4323-a843-b70973286e99"
      },
      "outputs": [
        {
          "name": "stdout",
          "output_type": "stream",
          "text": [
            "\n",
            "🎯 Accuracy: 0.9710\n",
            "\n",
            "Label        Precision    Recall    F1-Score   Support\n",
            "Rendah          0.9703    0.9899      0.9800        99\n",
            "Sedang          0.9643    0.9000      0.9310        30\n",
            "Tinggi          1.0000    1.0000      1.0000         9\n",
            "\n",
            "Macro avg       0.9782    0.9633      0.9703       138\n",
            "Weighted avg      0.9709    0.9710      0.9707       138\n"
          ]
        },
        {
          "data": {
            "image/png": "[encoded data removed]",
            "text/plain": [
              "<Figure size 640x480 with 2 Axes>"
            ]
          },
          "metadata": {},
          "output_type": "display_data"
        },
        {
          "name": "stderr",
          "output_type": "stream",
          "text": [
            "C:\\Users\\OPAL\\AppData\\Local\\Temp\\ipykernel_9376\\2854787869.py:59: UserWarning: Glyph 127919 (\\N{DIRECT HIT}) missing from font(s) DejaVu Sans.\n",
            "  plt.tight_layout()\n",
            "d:\\BERKAS EKSTENSI\\Log Activity\\venv\\Lib\\site-packages\\IPython\\core\\pylabtools.py:170: UserWarning: Glyph 127919 (\\N{DIRECT HIT}) missing from font(s) DejaVu Sans.\n",
            "  fig.canvas.print_figure(bytes_io, **kw)\n"
          ]
        },
        {
          "data": {
            "image/png": "[encoded data removed]",
            "text/plain": [
              "<Figure size 1000x600 with 1 Axes>"
            ]
          },
          "metadata": {},
          "output_type": "display_data"
        }
      ],
      "source": [
        "import pandas as pd\n",
        "from sklearn.model_selection import train_test_split\n",
        "from sklearn.ensemble import RandomForestClassifier\n",
        "from sklearn.metrics import classification_report, confusion_matrix, accuracy_score\n",
        "import seaborn as sns\n",
        "import matplotlib.pyplot as plt\n",
        "\n",
        "# 1. Load data clustering\n",
        "df = pd.read_csv(\"data_clustered_srl.csv\")\n",
        "\n",
        "# 2. Drop kolom non-fitur\n",
        "X = df.drop(columns=[\"user_id\", \"User full name\", \"pekan\", \"cluster\", \"SRL_label\"])\n",
        "y = df[\"SRL_label\"]\n",
        "\n",
        "# 3. Split data (80% train, 20% test)\n",
        "X_train, X_test, y_train, y_test = train_test_split(\n",
        "    X, y, test_size=0.2, random_state=42, stratify=y\n",
        ")\n",
        "\n",
        "# 4. Buat dan latih model Random Forest\n",
        "rf = RandomForestClassifier(n_estimators=100, random_state=42)\n",
        "rf.fit(X_train, y_train)\n",
        "\n",
        "# 5. Evaluasi model\n",
        "y_pred = rf.predict(X_test)\n",
        "acc = accuracy_score(y_test, y_pred)\n",
        "\n",
        "# Manual formatting classification report\n",
        "from sklearn.metrics import precision_recall_fscore_support\n",
        "\n",
        "labels = [\"Rendah\", \"Sedang\", \"Tinggi\"]\n",
        "precision, recall, f1, support = precision_recall_fscore_support(y_test, y_pred, labels=labels)\n",
        "\n",
        "print(f\"\\n🎯 Accuracy: {acc:.4f}\\n\")\n",
        "print(f\"{'Label':<10}{'Precision':>12}{'Recall':>10}{'F1-Score':>12}{'Support':>10}\")\n",
        "for i, label in enumerate(labels):\n",
        "    print(f\"{label:<10}{precision[i]:12.4f}{recall[i]:10.4f}{f1[i]:12.4f}{support[i]:10d}\")\n",
        "\n",
        "# Hitung macro & weighted average\n",
        "macro_avg = precision_recall_fscore_support(y_test, y_pred, average='macro')\n",
        "weighted_avg = precision_recall_fscore_support(y_test, y_pred, average='weighted')\n",
        "\n",
        "print(f\"\\n{'Macro avg':<10}{macro_avg[0]:12.4f}{macro_avg[1]:10.4f}{macro_avg[2]:12.4f}{sum(support):10d}\")\n",
        "print(f\"{'Weighted avg':<10}{weighted_avg[0]:12.4f}{weighted_avg[1]:10.4f}{weighted_avg[2]:12.4f}{sum(support):10d}\")\n",
        "\n",
        "# 6. Confusion Matrix\n",
        "cm = confusion_matrix(y_test, y_pred, labels=labels)\n",
        "sns.heatmap(cm, annot=True, fmt=\"d\", cmap=\"Blues\",\n",
        "            xticklabels=labels, yticklabels=labels)\n",
        "plt.xlabel(\"Predicted\")\n",
        "plt.ylabel(\"Actual\")\n",
        "plt.show()\n",
        "\n",
        "# 7. Visualisasi Feature Importance\n",
        "feat_importance = pd.Series(rf.feature_importances_, index=X.columns)\n",
        "feat_importance.sort_values(ascending=True).plot(kind=\"barh\", figsize=(10, 6))\n",
        "plt.title(\"🎯 Pentingnya Setiap Fitur terhadap Prediksi SRL Level\")\n",
        "plt.xlabel(\"Importance Score\")\n",
        "plt.tight_layout()\n",
        "plt.show()\n"
      ]
    },
    {
      "cell_type": "markdown",
      "id": "529431c8",
      "metadata": {
        "id": "529431c8"
      },
      "source": [
        "DISTRIBUSI DATA LATIH DAN DATA UJI"
      ]
    },
    {
      "cell_type": "code",
      "execution_count": null,
      "id": "1c1d3fb6",
      "metadata": {
        "id": "1c1d3fb6",
        "outputId": "ea7f284c-6d47-45d9-dc46-95c6c49e1f98"
      },
      "outputs": [
        {
          "data": {
            "image/png": "[encoded data removed]",
            "text/plain": [
              "<Figure size 600x400 with 1 Axes>"
            ]
          },
          "metadata": {},
          "output_type": "display_data"
        },
        {
          "data": {
            "image/png": "[encoded data removed]",
            "text/plain": [
              "<Figure size 600x400 with 1 Axes>"
            ]
          },
          "metadata": {},
          "output_type": "display_data"
        }
      ],
      "source": [
        "import seaborn as sns\n",
        "import matplotlib.pyplot as plt\n",
        "\n",
        "# --- Bar chart untuk data latih ---\n",
        "plt.figure(figsize=(6, 4))\n",
        "ax1 = sns.countplot(x=y_train, order=[\"Rendah\", \"Sedang\", \"Tinggi\"])\n",
        "plt.xlabel(\"SRL_label\")\n",
        "plt.ylabel(\"Jumlah\")\n",
        "\n",
        "# Tambahkan angka di atas batang\n",
        "for p in ax1.patches:\n",
        "    ax1.annotate(f\"{p.get_height()}\", (p.get_x() + p.get_width() / 2., p.get_height()),\n",
        "                 ha='center', va='bottom')\n",
        "\n",
        "plt.tight_layout()\n",
        "plt.show()\n",
        "\n",
        "# --- Bar chart untuk data uji ---\n",
        "plt.figure(figsize=(6, 4))\n",
        "ax2 = sns.countplot(x=y_test, order=[\"Rendah\", \"Sedang\", \"Tinggi\"])\n",
        "plt.xlabel(\"SRL_label\")\n",
        "plt.ylabel(\"Jumlah\")\n",
        "\n",
        "# Tambahkan angka di atas batang\n",
        "for p in ax2.patches:\n",
        "    ax2.annotate(f\"{p.get_height()}\", (p.get_x() + p.get_width() / 2., p.get_height()),\n",
        "                 ha='center', va='bottom')\n",
        "\n",
        "plt.tight_layout()\n",
        "plt.show()\n"
      ]
    },
    {
      "cell_type": "markdown",
      "id": "93b5a49d",
      "metadata": {
        "id": "93b5a49d"
      },
      "source": [
        "### **EVALUASI AKURASI RANDOM FOREST DATASET Gabungan Tuned**"
      ]
    }
  ],
  "metadata": {
    "kernelspec": {
      "display_name": "venv",
      "language": "python",
      "name": "python3"
    },
    "language_info": {
      "codemirror_mode": {
        "name": "ipython",
        "version": 3
      },
      "file_extension": ".py",
      "mimetype": "text/x-python",
      "name": "python",
      "nbconvert_exporter": "python",
      "pygments_lexer": "ipython3",
      "version": "3.13.3"
    },
    "colab": {
      "provenance": [],
      "include_colab_link": true
    }
  },
  "nbformat": 4,
  "nbformat_minor": 5
}